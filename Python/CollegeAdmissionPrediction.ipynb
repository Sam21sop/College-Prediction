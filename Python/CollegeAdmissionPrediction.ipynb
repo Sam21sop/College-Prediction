{
  "nbformat": 4,
  "nbformat_minor": 0,
  "metadata": {
    "colab": {
      "provenance": [],
      "toc_visible": true,
      "authorship_tag": "ABX9TyNIH4IYEGVjmzhHEAHTknLc"
    },
    "kernelspec": {
      "name": "python3",
      "display_name": "Python 3"
    },
    "language_info": {
      "name": "python"
    }
  },
  "cells": [
    {
      "cell_type": "markdown",
      "source": [
        "# Data Collection"
      ],
      "metadata": {
        "id": "m8QeRbxzAaxc"
      }
    },
    {
      "cell_type": "code",
      "execution_count": null,
      "metadata": {
        "id": "Pdrv4Ns1AGLw"
      },
      "outputs": [],
      "source": [
        "print(\"python\")"
      ]
    }
  ]
}